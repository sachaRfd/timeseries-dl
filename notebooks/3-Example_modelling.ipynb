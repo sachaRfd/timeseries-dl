{
 "cells": [
  {
   "cell_type": "markdown",
   "metadata": {},
   "source": [
    "# 3. Example forward pass of data through model: "
   ]
  },
  {
   "cell_type": "code",
   "execution_count": 1,
   "metadata": {},
   "outputs": [],
   "source": [
    "import torch\n",
    "import numpy as np\n",
    "from torch.utils.data import DataLoader\n",
    "from tqdm import tqdm\n",
    "import matplotlib.pyplot as plt\n",
    "from sklearn.decomposition import PCA\n",
    "\n",
    "# Load the files within src Dir:\n",
    "import sys\n",
    "import os\n",
    "\n",
    "sys.path.append(os.path.abspath(os.path.join(os.getcwd(), \"src\")))\n"
   ]
  },
  {
   "cell_type": "code",
   "execution_count": 2,
   "metadata": {},
   "outputs": [],
   "source": [
    "# Relative Imports: \n",
    "from dataset import ImputationDataset, collate_unsuperv\n",
    "from model import TSTransformerEncoder\n",
    "from loss import MaskedMSELoss\n",
    "from model import Predictor_Model\n",
    "\n",
    "\n"
   ]
  },
  {
   "cell_type": "markdown",
   "metadata": {
    "vscode": {
     "languageId": "plaintext"
    }
   },
   "source": [
    "### Loading the dataset:"
   ]
  },
  {
   "cell_type": "code",
   "execution_count": 3,
   "metadata": {},
   "outputs": [
    {
     "data": {
      "text/plain": [
       "{'samples': tensor([[[ 41.8000,  55.2000,  -8.6000,  ...,  16.9000,  42.2000,  13.0000],\n",
       "          [ 44.8000,  53.8000,  -3.6000,  ...,  24.5000,  35.0000,  26.6000],\n",
       "          [ 47.1000,  59.9000,  14.4000,  ...,  24.5000,  41.7000,  52.5000],\n",
       "          ...,\n",
       "          [ 69.8000,  17.5000,  23.3000,  ...,  51.9000,  51.5000,  -3.5000],\n",
       "          [ 72.6000,  28.0000,  35.9000,  ...,  59.6000,  58.5000,  -3.2000],\n",
       "          [ 76.1000,  12.1000,  23.2000,  ...,  57.3000,  46.9000,  -2.6000]],\n",
       " \n",
       "         [[132.0000,  99.7000,  18.7000,  ..., -11.2000, -21.7000, -41.3000],\n",
       "          [137.0000,  95.8000,   0.8000,  ..., -11.6000, -21.1000, -40.2000],\n",
       "          [148.0000,  99.5000,  20.0000,  ..., -13.8000, -23.6000, -33.3000],\n",
       "          ...,\n",
       "          [ 78.1000, -39.9000,   0.9000,  ..., -31.9000, -57.8000, -51.1000],\n",
       "          [ 90.5000, -10.2000,  31.6000,  ..., -19.9000, -44.6000, -45.4000],\n",
       "          [ 85.7000, -37.4000,   7.3000,  ..., -25.7000, -45.6000, -42.5000]],\n",
       " \n",
       "         [[ 69.4000,  67.8000,   9.9000,  ...,  20.9000,  14.1000,   3.6000],\n",
       "          [ 57.0000,  49.0000, -12.4000,  ...,  20.5000,   7.9000,  11.0000],\n",
       "          [ 76.4000,  62.1000,  18.7000,  ...,  30.1000,   6.3000,  14.0000],\n",
       "          ...,\n",
       "          [ 55.6000, -16.6000,  18.7000,  ...,  16.6000,   7.6000,   2.2000],\n",
       "          [ 67.7000,  12.2000,  55.4000,  ...,  14.0000,  12.1000,  -5.4000],\n",
       "          [ 59.0000, -14.6000,  10.9000,  ...,  16.4000,   7.9000, -16.4000]],\n",
       " \n",
       "         ...,\n",
       " \n",
       "         [[ 85.5000,  56.0000,   0.7000,  ...,  34.5000,  17.2000,  18.8000],\n",
       "          [ 85.0000,  53.0000, -11.7000,  ...,  22.2000,  14.7000,   6.4000],\n",
       "          [ 73.3000,  56.6000,  -7.5000,  ...,  13.3000,  15.3000,  11.9000],\n",
       "          ...,\n",
       "          [ 68.9000, -35.7000,  56.8000,  ...,  22.9000, -18.1000,  -4.1000],\n",
       "          [ 67.6000, -27.5000,  35.0000,  ...,  23.0000,  -4.3000,  -1.5000],\n",
       "          [ 70.6000, -21.2000,  60.5000,  ...,  22.1000,   5.2000,  23.5000]],\n",
       " \n",
       "         [[ 64.8000,  41.5000,  32.1000,  ...,  36.2000,  18.6000,  42.4000],\n",
       "          [ 90.2000,  69.3000,  60.3000,  ...,  51.6000,  41.8000,  50.4000],\n",
       "          [ 82.7000,  52.5000,  36.3000,  ...,  44.8000,  36.7000,  38.7000],\n",
       "          ...,\n",
       "          [ 74.7000,  13.4000, 127.7000,  ...,  38.5000,  18.7000,  42.4000],\n",
       "          [ 50.6000, -12.0000,  81.2000,  ...,  23.2000,  13.3000,  25.0000],\n",
       "          [ 69.3000,   9.7000, 115.1000,  ...,  34.9000,  17.0000,  30.7000]],\n",
       " \n",
       "         [[ 70.9000,  65.6000,  20.9000,  ...,  84.4000,  80.1000,  77.4000],\n",
       "          [ 78.4000,  79.2000,  22.5000,  ...,  91.1000,  85.9000,  85.8000],\n",
       "          [ 71.6000,  63.0000,  24.1000,  ...,  88.1000,  74.1000,  79.5000],\n",
       "          ...,\n",
       "          [ 80.3000,  34.5000, 105.6000,  ...,  85.6000, 100.9000,  85.8000],\n",
       "          [ 70.5000,  30.5000,  98.6000,  ...,  84.4000,  86.6000,  80.4000],\n",
       "          [ 83.1000,  29.6000, 111.1000,  ...,  91.1000,  87.2000,  88.5000]]]),\n",
       " 'labels': tensor([0., 1., 0., 1., 0., 1., 0., 1., 0., 0., 1., 1., 0., 0., 1., 1., 1., 0.,\n",
       "         0., 1., 0., 0., 1., 0., 1., 0., 0., 0., 0., 0., 0., 0., 1., 1., 1., 1.,\n",
       "         1., 1., 0., 1., 0., 1., 0., 0., 1., 0., 1., 1., 0., 1., 1., 0., 0., 1.,\n",
       "         0., 0., 1., 0., 1., 0., 1., 0., 0., 1., 0., 0., 0., 0., 0., 1., 0., 1.,\n",
       "         0., 0., 0., 0., 0., 1., 1., 1., 0., 1., 0., 1., 1., 1., 1., 1., 1., 1.,\n",
       "         1., 1., 0., 0., 0., 0., 1., 1., 1., 0., 1., 1., 1., 0., 1., 0., 1., 1.,\n",
       "         1., 0., 1., 0., 1., 0., 0., 0., 1., 0., 0., 1., 1., 1., 1., 0., 1., 1.,\n",
       "         0., 0., 1., 1., 1., 1., 1., 0., 0., 0., 0., 1., 1., 0., 1., 1., 1., 1.,\n",
       "         1., 1., 1., 0., 0., 0., 1., 1., 0., 0., 1., 1., 0., 0., 0., 0., 0., 1.,\n",
       "         1., 1., 1., 1., 1., 0., 1., 0., 1., 1., 0., 1., 0., 0., 1., 1., 1., 0.,\n",
       "         0., 1., 0., 0., 0., 0., 0., 1., 1., 0., 0., 0., 0., 1., 0., 0., 0., 1.,\n",
       "         0., 0., 1., 0., 0., 0., 1., 1., 1., 0., 0., 0., 1., 1., 1., 0., 0., 0.,\n",
       "         1., 0., 1., 1., 1., 1., 1., 1., 1., 0., 1., 0., 0., 0., 1., 0., 1., 1.,\n",
       "         1., 0., 1., 1., 0., 0., 0., 1., 1., 0., 1., 1., 0., 1., 1., 1., 1., 1.,\n",
       "         0., 1., 0., 1., 0., 0., 0., 0., 0., 0., 1., 1., 1., 0., 1., 1., 1., 0.,\n",
       "         1., 0., 0., 1., 1., 0., 0., 1., 0., 0., 1., 0., 0., 0., 1., 0., 0., 1.,\n",
       "         1., 0., 0., 1., 1., 1., 0., 1., 0., 1., 1., 1., 0., 1., 1., 0., 1., 0.,\n",
       "         0., 0., 0., 0., 0., 0., 0., 0., 0., 0.])}"
      ]
     },
     "execution_count": 3,
     "metadata": {},
     "output_type": "execute_result"
    }
   ],
   "source": [
    "train_dataset_path = \"../dataset/classification/FingerMovements/train.pt\"\n",
    "train_data = torch.load(train_dataset_path)\n",
    "train_data"
   ]
  },
  {
   "cell_type": "markdown",
   "metadata": {},
   "source": [
    "#### Setting up the dataset: "
   ]
  },
  {
   "cell_type": "code",
   "execution_count": 4,
   "metadata": {},
   "outputs": [
    {
     "data": {
      "text/plain": [
       "(tensor([-9.5397e-01,  6.1665e-01, -3.7655e-01, -2.6380e-01,  1.1476e+00,\n",
       "          9.5103e-01,  5.6980e-01,  9.6900e-01,  1.0436e+00, -4.6374e-01,\n",
       "          3.5370e-01,  8.2001e-01,  9.7326e-01,  3.7221e-01, -3.8268e-01,\n",
       "          5.4273e-01,  8.8523e-01,  4.3582e-01,  7.7776e-02,  1.4664e+00,\n",
       "          1.2042e+00,  8.0010e-01,  8.1634e-01,  4.8460e-01,  5.7211e-01,\n",
       "          1.2540e-03,  8.8399e-01,  1.4750e-01]),\n",
       " tensor([ True,  True,  True,  True,  True,  True,  True,  True,  True,  True,\n",
       "          True,  True, False,  True,  True,  True,  True,  True, False,  True,\n",
       "          True,  True,  True,  True, False,  True,  True, False]))"
      ]
     },
     "execution_count": 4,
     "metadata": {},
     "output_type": "execute_result"
    }
   ],
   "source": [
    "imputation_dataset = ImputationDataset(train_data)\n",
    "sample, mask, label = imputation_dataset[0]\n",
    "sample[0], mask[0]"
   ]
  },
  {
   "cell_type": "markdown",
   "metadata": {},
   "source": [
    "#### Setting up collating function + Dataloader: "
   ]
  },
  {
   "cell_type": "code",
   "execution_count": 5,
   "metadata": {},
   "outputs": [
    {
     "data": {
      "text/plain": [
       "torch.Size([128, 50, 28])"
      ]
     },
     "execution_count": 5,
     "metadata": {},
     "output_type": "execute_result"
    }
   ],
   "source": [
    "# Setting up the dataloader: \n",
    "batch_size = 128\n",
    "max_seq_len = 50\n",
    "\n",
    "train_loader = DataLoader(\n",
    "    dataset=imputation_dataset,\n",
    "    shuffle=False,\n",
    "    batch_size=batch_size,\n",
    "    collate_fn=lambda x : collate_unsuperv(x, max_len=max_seq_len)\n",
    ")\n",
    "\n",
    "\n",
    "next(iter(train_loader))[0].shape\n",
    "\n",
    "\n"
   ]
  },
  {
   "cell_type": "markdown",
   "metadata": {},
   "source": [
    "### Setting up the Encoder Model: "
   ]
  },
  {
   "cell_type": "code",
   "execution_count": 6,
   "metadata": {},
   "outputs": [
    {
     "name": "stderr",
     "output_type": "stream",
     "text": [
      "/Users/sacharaffaud/miniconda3/envs/ts/lib/python3.12/site-packages/torch/nn/modules/transformer.py:385: UserWarning: enable_nested_tensor is True, but self.use_nested_tensor is False because encoder_layer was not TransformerEncoderLayer\n",
      "  warnings.warn(\n"
     ]
    },
    {
     "data": {
      "text/plain": [
       "TSTransformerEncoder(\n",
       "  (project_inp): Linear(in_features=28, out_features=64, bias=True)\n",
       "  (pos_enc): LearnablePositionalEncoding(\n",
       "    (dropout): Dropout(p=0.1, inplace=False)\n",
       "  )\n",
       "  (transformer_encoder): TransformerEncoder(\n",
       "    (layers): ModuleList(\n",
       "      (0-3): 4 x TransformerBatchNormEncoderLayer(\n",
       "        (self_attn): MultiheadAttention(\n",
       "          (out_proj): NonDynamicallyQuantizableLinear(in_features=64, out_features=64, bias=True)\n",
       "        )\n",
       "        (linear1): Linear(in_features=64, out_features=256, bias=True)\n",
       "        (dropout): Dropout(p=0.1, inplace=False)\n",
       "        (linear2): Linear(in_features=256, out_features=64, bias=True)\n",
       "        (norm1): BatchNorm1d(64, eps=1e-05, momentum=0.1, affine=True, track_running_stats=True)\n",
       "        (norm2): BatchNorm1d(64, eps=1e-05, momentum=0.1, affine=True, track_running_stats=True)\n",
       "        (dropout1): Dropout(p=0.1, inplace=False)\n",
       "        (dropout2): Dropout(p=0.1, inplace=False)\n",
       "      )\n",
       "    )\n",
       "  )\n",
       "  (output_layer): Linear(in_features=64, out_features=28, bias=True)\n",
       "  (dropout1): Dropout(p=0.1, inplace=False)\n",
       ")"
      ]
     },
     "execution_count": 6,
     "metadata": {},
     "output_type": "execute_result"
    }
   ],
   "source": [
    "# setup vars: \n",
    "max_seq_len = 50\n",
    "feat_dims = 28\n",
    "d_model = 64\n",
    "num_heads = 4\n",
    "num_layers = 4\n",
    "dim_feedforward = 256\n",
    "dropout = 0.1\n",
    "pos_encoding = \"learnable\"  \n",
    "activation = \"gelu\"           \n",
    "normalisation_layer = \"BatchNorm\"  \n",
    "freeze = False              \n",
    "\n",
    "# Setup the model: \n",
    "model = TSTransformerEncoder(\n",
    "    feat_dim=feat_dims,\n",
    "    max_len=max_seq_len,\n",
    "    d_model=d_model,\n",
    "    n_heads=num_heads,\n",
    "    num_layers=num_layers,\n",
    "    dim_feedforward=dim_feedforward,\n",
    "    dropout=dropout,\n",
    "    pos_encoding=pos_encoding,\n",
    "    activation=activation,\n",
    "    norm=normalisation_layer,\n",
    "    freeze=freeze\n",
    ")\n",
    "\n",
    "model"
   ]
  },
  {
   "cell_type": "markdown",
   "metadata": {},
   "source": [
    "## Testing a forward pass: "
   ]
  },
  {
   "cell_type": "code",
   "execution_count": 7,
   "metadata": {},
   "outputs": [
    {
     "data": {
      "text/plain": [
       "torch.Size([128, 50, 28])"
      ]
     },
     "execution_count": 7,
     "metadata": {},
     "output_type": "execute_result"
    }
   ],
   "source": [
    "inputs, targets, targets_mask, pad_mask, labels = next(iter(train_loader))\n",
    "\n",
    "outputs, cls_token = model(inputs, pad_mask)\n",
    "outputs.shape"
   ]
  },
  {
   "cell_type": "markdown",
   "metadata": {},
   "source": [
    "## Testing a Training Loop: "
   ]
  },
  {
   "cell_type": "code",
   "execution_count": 8,
   "metadata": {},
   "outputs": [],
   "source": [
    "# Setup optim\n",
    "lr = 1e-3\n",
    "weight_decay = 1e-6\n",
    "optimizer = torch.optim.AdamW(model.parameters(), lr=lr, weight_decay=weight_decay)\n",
    "\n",
    "loss_fn = MaskedMSELoss()\n",
    "\n",
    "epochs = 0\n",
    "\n",
    "for epoch in range(epochs):\n",
    "    epoch_loss = 0  # total loss of epoch\n",
    "    total_active_elements = 0  # total unmasked elements in epoch\n",
    "\n",
    "    model.train()\n",
    "    train_loader_tqdm = tqdm(train_loader, desc=f\"Epoch {epoch+1}/{epochs}\", leave=False)\n",
    "\n",
    "    for i, batch in enumerate(train_loader_tqdm):\n",
    "        X, targets, target_masks, padding_masks, labels = batch\n",
    "\n",
    "        predictions, cls_tokens = model(X, padding_masks)\n",
    "\n",
    "        # Cascade noise masks (batch_size, padded_length, feat_dim) and padding masks (batch_size, padded_length)\n",
    "        target_masks = target_masks * padding_masks.unsqueeze(-1)\n",
    "        loss = loss_fn(predictions, targets, target_masks)\n",
    "        \n",
    "        optimizer.zero_grad()\n",
    "        loss.backward()\n",
    "        torch.nn.utils.clip_grad_norm_(model.parameters(), max_norm=4.0)\n",
    "        optimizer.step()\n",
    "        \n",
    "        # Update tqdm description with current loss\n",
    "        train_loader_tqdm.set_postfix(loss=loss.item())\n",
    "        epoch_loss += loss.item()\n",
    "    epoch_loss /= len(train_loader)\n",
    "    print(f\"Epoch {epoch + 1}/{epochs}  Loss: {epoch_loss}\")"
   ]
  },
  {
   "cell_type": "markdown",
   "metadata": {},
   "source": [
    "### Ordered Latent Space:\n",
    "\n"
   ]
  },
  {
   "cell_type": "code",
   "execution_count": 9,
   "metadata": {},
   "outputs": [
    {
     "data": {
      "text/plain": [
       "((316, 28), (316,))"
      ]
     },
     "execution_count": 9,
     "metadata": {},
     "output_type": "execute_result"
    }
   ],
   "source": [
    "embedding_space = []\n",
    "labels_list = []\n",
    "train_clean_dl = DataLoader(\n",
    "    dataset=imputation_dataset,\n",
    "    shuffle=False,\n",
    "    batch_size=1,\n",
    "    collate_fn=lambda x: collate_unsuperv(x, max_len=max_seq_len)\n",
    ")\n",
    "\n",
    "\n",
    "model.eval()\n",
    "for i, batch in enumerate(train_clean_dl):\n",
    "    X, targets, _, padding_masks, labels = batch\n",
    "    with torch.no_grad():   \n",
    "        predictions, cls_tokens = model(X, padding_masks) # Feed the clean targets in - No Noise\n",
    "    # Store the meaned embedding space as an example: \n",
    "    # predictions_meaned = predictions.mean(dim=1)\n",
    "    cls_tokens = cls_tokens.squeeze().detach().numpy()\n",
    "    # Just take the first value:\n",
    "    # predictions_meaned = predictions_meaned[0].detach().numpy()\n",
    "    labels = labels[0].detach().numpy()\n",
    "    embedding_space.append(cls_tokens)\n",
    "    labels_list.append(labels)\n",
    "\n",
    "\n",
    "embedding_space = np.array(embedding_space)\n",
    "labels_list = np.array(labels_list)\n",
    "embedding_space.shape, labels_list.shape"
   ]
  },
  {
   "cell_type": "markdown",
   "metadata": {},
   "source": [
    "### Plotting PCA of latent Space: "
   ]
  },
  {
   "cell_type": "code",
   "execution_count": 10,
   "metadata": {},
   "outputs": [
    {
     "data": {
      "image/png": "[encoded data removed]",
      "text/plain": [
       "<Figure size 800x600 with 2 Axes>"
      ]
     },
     "metadata": {},
     "output_type": "display_data"
    }
   ],
   "source": [
    "pca = PCA(n_components=2)\n",
    "\n",
    "samples_pcaed = pca.fit_transform(embedding_space)\n",
    "\n",
    "\n",
    "# Plot PCA results\n",
    "plt.figure(figsize=(8, 6))\n",
    "scatter = plt.scatter(samples_pcaed[:, 0], samples_pcaed[:, 1], c=labels_list, cmap=\"viridis\", alpha=0.7)\n",
    "plt.colorbar(scatter, label=\"Labels\")\n",
    "plt.xlabel(\"Principal Component 1\")\n",
    "plt.ylabel(\"Principal Component 2\")\n",
    "plt.title(\"PCA of Samples\")\n",
    "plt.show()"
   ]
  },
  {
   "cell_type": "markdown",
   "metadata": {},
   "source": [
    "## Now we can train from the output of the model\n"
   ]
  },
  {
   "cell_type": "code",
   "execution_count": 11,
   "metadata": {},
   "outputs": [
    {
     "name": "stdout",
     "output_type": "stream",
     "text": [
      "tensor([[0.4044]], grad_fn=<SigmoidBackward0>)\n"
     ]
    }
   ],
   "source": [
    "predictor_model = Predictor_Model(model)\n",
    "\n",
    "\n",
    "model.eval()\n",
    "for i, batch in enumerate(train_clean_dl):\n",
    "    X, targets, _, padding_masks, labels = batch\n",
    "    # with torch.no_grad():   \n",
    "    predictions, _ = predictor_model(X, padding_masks) # Feed the clean targets in - No Noise\n",
    "    print(predictions)\n",
    "    break\n",
    "\n",
    "        \n",
    "\n"
   ]
  },
  {
   "cell_type": "markdown",
   "metadata": {},
   "source": [
    "### Training for the binary prediction now: \n"
   ]
  },
  {
   "cell_type": "code",
   "execution_count": 12,
   "metadata": {},
   "outputs": [
    {
     "name": "stderr",
     "output_type": "stream",
     "text": [
      "                                                                     \r"
     ]
    },
    {
     "name": "stdout",
     "output_type": "stream",
     "text": [
      "Epoch 1/40  Loss: 0.697252074877421\n"
     ]
    },
    {
     "name": "stderr",
     "output_type": "stream",
     "text": [
      "                                                                     \r"
     ]
    },
    {
     "name": "stdout",
     "output_type": "stream",
     "text": [
      "Epoch 2/40  Loss: 0.6849069992701212\n"
     ]
    },
    {
     "name": "stderr",
     "output_type": "stream",
     "text": [
      "                                                                     \r"
     ]
    },
    {
     "name": "stdout",
     "output_type": "stream",
     "text": [
      "Epoch 3/40  Loss: 0.6794872879981995\n"
     ]
    },
    {
     "name": "stderr",
     "output_type": "stream",
     "text": [
      "                                                                     \r"
     ]
    },
    {
     "name": "stdout",
     "output_type": "stream",
     "text": [
      "Epoch 4/40  Loss: 0.6744548877080282\n"
     ]
    },
    {
     "name": "stderr",
     "output_type": "stream",
     "text": [
      "                                                                     \r"
     ]
    },
    {
     "name": "stdout",
     "output_type": "stream",
     "text": [
      "Epoch 5/40  Loss: 0.6641682386398315\n"
     ]
    },
    {
     "name": "stderr",
     "output_type": "stream",
     "text": [
      "                                                                     \r"
     ]
    },
    {
     "name": "stdout",
     "output_type": "stream",
     "text": [
      "Epoch 6/40  Loss: 0.655804435412089\n"
     ]
    },
    {
     "name": "stderr",
     "output_type": "stream",
     "text": [
      "                                                                     \r"
     ]
    },
    {
     "name": "stdout",
     "output_type": "stream",
     "text": [
      "Epoch 7/40  Loss: 0.6416690150896708\n"
     ]
    },
    {
     "name": "stderr",
     "output_type": "stream",
     "text": [
      "                                                                     \r"
     ]
    },
    {
     "name": "stdout",
     "output_type": "stream",
     "text": [
      "Epoch 8/40  Loss: 0.6303681333859762\n"
     ]
    },
    {
     "name": "stderr",
     "output_type": "stream",
     "text": [
      "                                                                     \r"
     ]
    },
    {
     "name": "stdout",
     "output_type": "stream",
     "text": [
      "Epoch 9/40  Loss: 0.6057636737823486\n"
     ]
    },
    {
     "name": "stderr",
     "output_type": "stream",
     "text": [
      "                                                                      \r"
     ]
    },
    {
     "name": "stdout",
     "output_type": "stream",
     "text": [
      "Epoch 10/40  Loss: 0.5962691704432169\n"
     ]
    },
    {
     "name": "stderr",
     "output_type": "stream",
     "text": [
      "                                                                      \r"
     ]
    },
    {
     "name": "stdout",
     "output_type": "stream",
     "text": [
      "Epoch 11/40  Loss: 0.5662043690681458\n"
     ]
    },
    {
     "name": "stderr",
     "output_type": "stream",
     "text": [
      "                                                                      \r"
     ]
    },
    {
     "name": "stdout",
     "output_type": "stream",
     "text": [
      "Epoch 12/40  Loss: 0.5531806151072184\n"
     ]
    },
    {
     "name": "stderr",
     "output_type": "stream",
     "text": [
      "                                                                      \r"
     ]
    },
    {
     "name": "stdout",
     "output_type": "stream",
     "text": [
      "Epoch 13/40  Loss: 0.5331141153971354\n"
     ]
    },
    {
     "name": "stderr",
     "output_type": "stream",
     "text": [
      "                                                                      \r"
     ]
    },
    {
     "name": "stdout",
     "output_type": "stream",
     "text": [
      "Epoch 14/40  Loss: 0.5318387647469839\n"
     ]
    },
    {
     "name": "stderr",
     "output_type": "stream",
     "text": [
      "                                                                      \r"
     ]
    },
    {
     "name": "stdout",
     "output_type": "stream",
     "text": [
      "Epoch 15/40  Loss: 0.4781337082386017\n"
     ]
    },
    {
     "name": "stderr",
     "output_type": "stream",
     "text": [
      "                                                                      \r"
     ]
    },
    {
     "name": "stdout",
     "output_type": "stream",
     "text": [
      "Epoch 16/40  Loss: 0.4699900845686595\n"
     ]
    },
    {
     "name": "stderr",
     "output_type": "stream",
     "text": [
      "                                                                      \r"
     ]
    },
    {
     "name": "stdout",
     "output_type": "stream",
     "text": [
      "Epoch 17/40  Loss: 0.49254585305849713\n"
     ]
    },
    {
     "name": "stderr",
     "output_type": "stream",
     "text": [
      "                                                                      \r"
     ]
    },
    {
     "name": "stdout",
     "output_type": "stream",
     "text": [
      "Epoch 18/40  Loss: 0.4595685501893361\n"
     ]
    },
    {
     "name": "stderr",
     "output_type": "stream",
     "text": [
      "                                                                      \r"
     ]
    },
    {
     "name": "stdout",
     "output_type": "stream",
     "text": [
      "Epoch 19/40  Loss: 0.4581276973088582\n"
     ]
    },
    {
     "name": "stderr",
     "output_type": "stream",
     "text": [
      "                                                                      \r"
     ]
    },
    {
     "name": "stdout",
     "output_type": "stream",
     "text": [
      "Epoch 20/40  Loss: 0.4237107038497925\n"
     ]
    },
    {
     "name": "stderr",
     "output_type": "stream",
     "text": [
      "                                                                      \r"
     ]
    },
    {
     "name": "stdout",
     "output_type": "stream",
     "text": [
      "Epoch 21/40  Loss: 0.4058176974455516\n"
     ]
    },
    {
     "name": "stderr",
     "output_type": "stream",
     "text": [
      "                                                                      \r"
     ]
    },
    {
     "name": "stdout",
     "output_type": "stream",
     "text": [
      "Epoch 22/40  Loss: 0.38227973878383636\n"
     ]
    },
    {
     "name": "stderr",
     "output_type": "stream",
     "text": [
      "                                                                      \r"
     ]
    },
    {
     "name": "stdout",
     "output_type": "stream",
     "text": [
      "Epoch 23/40  Loss: 0.3948179433743159\n"
     ]
    },
    {
     "name": "stderr",
     "output_type": "stream",
     "text": [
      "                                                                      \r"
     ]
    },
    {
     "name": "stdout",
     "output_type": "stream",
     "text": [
      "Epoch 24/40  Loss: 0.35365862647692364\n"
     ]
    },
    {
     "name": "stderr",
     "output_type": "stream",
     "text": [
      "                                                                      \r"
     ]
    },
    {
     "name": "stdout",
     "output_type": "stream",
     "text": [
      "Epoch 25/40  Loss: 0.40164730449517566\n"
     ]
    },
    {
     "name": "stderr",
     "output_type": "stream",
     "text": [
      "                                                                      \r"
     ]
    },
    {
     "name": "stdout",
     "output_type": "stream",
     "text": [
      "Epoch 26/40  Loss: 0.3817117561896642\n"
     ]
    },
    {
     "name": "stderr",
     "output_type": "stream",
     "text": [
      "                                                                      \r"
     ]
    },
    {
     "name": "stdout",
     "output_type": "stream",
     "text": [
      "Epoch 27/40  Loss: 0.3301039437452952\n"
     ]
    },
    {
     "name": "stderr",
     "output_type": "stream",
     "text": [
      "                                                                     \r"
     ]
    },
    {
     "name": "stdout",
     "output_type": "stream",
     "text": [
      "Epoch 28/40  Loss: 0.33680536101261777\n"
     ]
    },
    {
     "name": "stderr",
     "output_type": "stream",
     "text": [
      "                                                                      \r"
     ]
    },
    {
     "name": "stdout",
     "output_type": "stream",
     "text": [
      "Epoch 29/40  Loss: 0.30232689281304675\n"
     ]
    },
    {
     "name": "stderr",
     "output_type": "stream",
     "text": [
      "                                                                       \r"
     ]
    },
    {
     "name": "stdout",
     "output_type": "stream",
     "text": [
      "Epoch 30/40  Loss: 0.3013916114966075\n"
     ]
    },
    {
     "name": "stderr",
     "output_type": "stream",
     "text": [
      "                                                                      \r"
     ]
    },
    {
     "name": "stdout",
     "output_type": "stream",
     "text": [
      "Epoch 31/40  Loss: 0.3246826281150182\n"
     ]
    },
    {
     "name": "stderr",
     "output_type": "stream",
     "text": [
      "                                                                      \r"
     ]
    },
    {
     "name": "stdout",
     "output_type": "stream",
     "text": [
      "Epoch 32/40  Loss: 0.2879011631011963\n"
     ]
    },
    {
     "name": "stderr",
     "output_type": "stream",
     "text": [
      "                                                                      \r"
     ]
    },
    {
     "name": "stdout",
     "output_type": "stream",
     "text": [
      "Epoch 33/40  Loss: 0.27353424578905106\n"
     ]
    },
    {
     "name": "stderr",
     "output_type": "stream",
     "text": [
      "                                                                      \r"
     ]
    },
    {
     "name": "stdout",
     "output_type": "stream",
     "text": [
      "Epoch 34/40  Loss: 0.27509596198797226\n"
     ]
    },
    {
     "name": "stderr",
     "output_type": "stream",
     "text": [
      "                                                                       \r"
     ]
    },
    {
     "name": "stdout",
     "output_type": "stream",
     "text": [
      "Epoch 35/40  Loss: 0.2274227812886238\n"
     ]
    },
    {
     "name": "stderr",
     "output_type": "stream",
     "text": [
      "                                                                      \r"
     ]
    },
    {
     "name": "stdout",
     "output_type": "stream",
     "text": [
      "Epoch 36/40  Loss: 0.23582619925340018\n"
     ]
    },
    {
     "name": "stderr",
     "output_type": "stream",
     "text": [
      "                                                                       \r"
     ]
    },
    {
     "name": "stdout",
     "output_type": "stream",
     "text": [
      "Epoch 37/40  Loss: 0.2151623231669267\n"
     ]
    },
    {
     "name": "stderr",
     "output_type": "stream",
     "text": [
      "                                                                      \r"
     ]
    },
    {
     "name": "stdout",
     "output_type": "stream",
     "text": [
      "Epoch 38/40  Loss: 0.3048413544893265\n"
     ]
    },
    {
     "name": "stderr",
     "output_type": "stream",
     "text": [
      "                                                                      \r"
     ]
    },
    {
     "name": "stdout",
     "output_type": "stream",
     "text": [
      "Epoch 39/40  Loss: 0.24384824434916177\n"
     ]
    },
    {
     "name": "stderr",
     "output_type": "stream",
     "text": [
      "                                                                      "
     ]
    },
    {
     "name": "stdout",
     "output_type": "stream",
     "text": [
      "Epoch 40/40  Loss: 0.23334651192029318\n"
     ]
    },
    {
     "name": "stderr",
     "output_type": "stream",
     "text": [
      "\r"
     ]
    }
   ],
   "source": [
    "# Setup optim\n",
    "lr = 1e-3\n",
    "weight_decay = 1e-6\n",
    "optimizer = torch.optim.AdamW(predictor_model.parameters(), lr=lr, weight_decay=weight_decay)\n",
    "\n",
    "loss_fn = torch.nn.BCELoss()\n",
    "epochs = 40\n",
    "\n",
    "for epoch in range(epochs):\n",
    "    epoch_loss = 0  # total loss of epoch\n",
    "    total_active_elements = 0  # total unmasked elements in epoch\n",
    "\n",
    "    predictor_model.train()\n",
    "    train_loader_tqdm = tqdm(train_loader, desc=f\"Epoch {epoch+1}/{epochs}\", leave=False)\n",
    "\n",
    "    for i, batch in enumerate(train_loader_tqdm):\n",
    "        _, targets, _, padding_masks, labels = batch\n",
    "        labels = [val.item() for val in labels]\n",
    "        labels = torch.tensor(labels, dtype=torch.float32)\n",
    "        labels = labels.unsqueeze(-1)\n",
    "\n",
    "        predictions, _ = predictor_model(targets, padding_masks)\n",
    "\n",
    "        # Cascade noise masks (batch_size, padded_length, feat_dim) and padding masks (batch_size, padded_length)\n",
    "        # target_masks = target_masks * padding_masks.unsqueeze(-1)\n",
    "        loss = loss_fn(predictions, labels)\n",
    "        \n",
    "        optimizer.zero_grad()\n",
    "        loss.backward()\n",
    "        torch.nn.utils.clip_grad_norm_(model.parameters(), max_norm=4.0)\n",
    "        optimizer.step()\n",
    "        \n",
    "        # Update tqdm description with current loss\n",
    "        train_loader_tqdm.set_postfix(loss=loss.item())\n",
    "        epoch_loss += loss.item()\n",
    "    epoch_loss /= len(train_loader)\n",
    "    print(f\"Epoch {epoch + 1}/{epochs}  Loss: {epoch_loss}\")"
   ]
  },
  {
   "cell_type": "code",
   "execution_count": 13,
   "metadata": {},
   "outputs": [
    {
     "data": {
      "text/plain": [
       "((316, 28), (316,))"
      ]
     },
     "execution_count": 13,
     "metadata": {},
     "output_type": "execute_result"
    }
   ],
   "source": [
    "embedding_space = []\n",
    "labels_list = []\n",
    "train_clean_dl = DataLoader(\n",
    "    dataset=imputation_dataset,\n",
    "    shuffle=False,\n",
    "    batch_size=1,\n",
    "    collate_fn=lambda x: collate_unsuperv(x, max_len=max_seq_len)\n",
    ")\n",
    "\n",
    "\n",
    "predictor_model.eval()\n",
    "for i, batch in enumerate(train_clean_dl):\n",
    "    X, targets, _, padding_masks, labels = batch\n",
    "    with torch.no_grad():   \n",
    "        predictions, first_token = predictor_model(X, padding_masks) # Feed the clean targets in - No Noise\n",
    "    # Store the meaned embedding space as an example: \n",
    "    first_token_ = first_token.squeeze().detach().numpy()\n",
    "    labels = labels[0].detach().numpy()\n",
    "    embedding_space.append(first_token_)\n",
    "    labels_list.append(labels)\n",
    "\n",
    "\n",
    "embedding_space = np.array(embedding_space)\n",
    "labels_list = np.array(labels_list)\n",
    "embedding_space.shape, labels_list.shape"
   ]
  },
  {
   "cell_type": "code",
   "execution_count": 14,
   "metadata": {},
   "outputs": [
    {
     "data": {
      "image/png": "[encoded data removed]",
      "text/plain": [
       "<Figure size 800x600 with 2 Axes>"
      ]
     },
     "metadata": {},
     "output_type": "display_data"
    }
   ],
   "source": [
    "pca = PCA(n_components=2)\n",
    "\n",
    "samples_pcaed = pca.fit_transform(embedding_space)\n",
    "\n",
    "\n",
    "# Plot PCA results\n",
    "plt.figure(figsize=(8, 6))\n",
    "scatter = plt.scatter(samples_pcaed[:, 0], samples_pcaed[:, 1], c=labels_list, cmap=\"viridis\", alpha=0.7)\n",
    "plt.colorbar(scatter, label=\"Labels\")\n",
    "plt.xlabel(\"Principal Component 1\")\n",
    "plt.ylabel(\"Principal Component 2\")\n",
    "plt.title(\"PCA of Samples\")\n",
    "plt.show()"
   ]
  }
 ],
 "metadata": {
  "kernelspec": {
   "display_name": "ts",
   "language": "python",
   "name": "python3"
  },
  "language_info": {
   "codemirror_mode": {
    "name": "ipython",
    "version": 3
   },
   "file_extension": ".py",
   "mimetype": "text/x-python",
   "name": "python",
   "nbconvert_exporter": "python",
   "pygments_lexer": "ipython3",
   "version": "3.12.9"
  }
 },
 "nbformat": 4,
 "nbformat_minor": 2
}
